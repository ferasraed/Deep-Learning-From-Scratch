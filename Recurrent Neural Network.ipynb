{
 "cells": [
  {
   "cell_type": "markdown",
   "metadata": {},
   "source": [
    "<a href=\"https://colab.research.google.com/drive/1YfmB3kIfmsUCkZ-cB3R5MkPowvz3KjbP?usp=sharing\" target=\"_parent\"><img src=\"https://colab.research.google.com/assets/colab-badge.svg\" alt=\"Open In Colab\"/></a>"
   ]
  },
  {
   "cell_type": "markdown",
   "metadata": {
    "id": "nZmgT-9w__pE"
   },
   "source": [
    "# ***RNN***"
   ]
  },
  {
   "cell_type": "code",
   "execution_count": 1,
   "metadata": {
    "id": "vdeI8_9R_0rr"
   },
   "outputs": [],
   "source": [
    "import numpy as np\n",
    "from numpy.random import randn\n",
    "\n",
    "class RNN:\n",
    "\n",
    "  def __init__(self, input_size, output_size, hidden_size=64):\n",
    "    self.Whh = randn(hidden_size, hidden_size) / 1000\n",
    "    self.Wxh = randn(hidden_size, input_size) / 1000\n",
    "    self.Why = randn(output_size, hidden_size) / 1000\n",
    "\n",
    "    self.bh = np.zeros((hidden_size, 1))\n",
    "    self.by = np.zeros((output_size, 1))\n",
    "\n",
    "  def forward(self, inputs):\n",
    "    h = np.zeros((self.Whh.shape[0], 1))\n",
    "\n",
    "    self.last_inputs = inputs\n",
    "    self.last_hs = { 0: h }\n",
    "\n",
    "    for i, x in enumerate(inputs):\n",
    "      h = np.tanh(self.Wxh @ x + self.Whh @ h + self.bh)\n",
    "      self.last_hs[i + 1] = h\n",
    "\n",
    "    y = self.Why @ h + self.by\n",
    "\n",
    "    return y, h\n",
    "\n",
    "  def backprop(self, d_y, learn_rate=2e-2):\n",
    "    n = len(self.last_inputs)\n",
    "\n",
    "    d_Why = d_y @ self.last_hs[n].T\n",
    "    d_by = d_y\n",
    "\n",
    "    d_Whh = np.zeros(self.Whh.shape)\n",
    "    d_Wxh = np.zeros(self.Wxh.shape)\n",
    "    d_bh = np.zeros(self.bh.shape)\n",
    "\n",
    "    d_h = self.Why.T @ d_y\n",
    "\n",
    "    for t in reversed(range(n)):\n",
    "      temp = ((1 - self.last_hs[t + 1] ** 2) * d_h)\n",
    "\n",
    "      d_bh += temp\n",
    "\n",
    "      d_Whh += temp @ self.last_hs[t].T\n",
    "\n",
    "      d_Wxh += temp @ self.last_inputs[t].T\n",
    "\n",
    "      d_h = self.Whh @ temp\n",
    "\n",
    "    for d in [d_Wxh, d_Whh, d_Why, d_bh, d_by]:\n",
    "      np.clip(d, -1, 1, out=d)\n",
    "\n",
    "    self.Whh -= learn_rate * d_Whh\n",
    "    self.Wxh -= learn_rate * d_Wxh\n",
    "    self.Why -= learn_rate * d_Why\n",
    "    self.bh -= learn_rate * d_bh\n",
    "    self.by -= learn_rate * d_by"
   ]
  },
  {
   "cell_type": "markdown",
   "metadata": {
    "id": "zjaXlwWWbC88"
   },
   "source": [
    "# ***Data***"
   ]
  },
  {
   "cell_type": "code",
   "execution_count": 2,
   "metadata": {
    "id": "tmYYepmWa8hj"
   },
   "outputs": [],
   "source": [
    "train_data = {\n",
    "  'good': True,\n",
    "  'bad': False,\n",
    "  'happy': True,\n",
    "  'sad': False,\n",
    "  'not good': False,\n",
    "  'not bad': True,\n",
    "  'not happy': False,\n",
    "  'not sad': True,\n",
    "  'very good': True,\n",
    "  'very bad': False,\n",
    "  'very happy': True,\n",
    "  'very sad': False,\n",
    "  'i am happy': True,\n",
    "  'this is good': True,\n",
    "  'i am bad': False,\n",
    "  'this is bad': False,\n",
    "  'i am sad': False,\n",
    "  'this is sad': False,\n",
    "  'i am not happy': False,\n",
    "  'this is not good': False,\n",
    "  'i am not bad': True,\n",
    "  'this is not sad': True,\n",
    "  'i am very happy': True,\n",
    "  'this is very good': True,\n",
    "  'i am very bad': False,\n",
    "  'this is very sad': False,\n",
    "  'this is very happy': True,\n",
    "  'i am good not bad': True,\n",
    "  'this is good not bad': True,\n",
    "  'i am bad not good': False,\n",
    "  'i am good and happy': True,\n",
    "  'this is not good and not happy': False,\n",
    "  'i am not at all good': False,\n",
    "  'i am not at all bad': True,\n",
    "  'i am not at all happy': False,\n",
    "  'this is not at all sad': True,\n",
    "  'this is not at all happy': False,\n",
    "  'i am good right now': True,\n",
    "  'i am bad right now': False,\n",
    "  'this is bad right now': False,\n",
    "  'i am sad right now': False,\n",
    "  'i was good earlier': True,\n",
    "  'i was happy earlier': True,\n",
    "  'i was bad earlier': False,\n",
    "  'i was sad earlier': False,\n",
    "  'i am very bad right now': False,\n",
    "  'this is very good right now': True,\n",
    "  'this is very sad right now': False,\n",
    "  'this was bad earlier': False,\n",
    "  'this was very good earlier': True,\n",
    "  'this was very bad earlier': False,\n",
    "  'this was very happy earlier': True,\n",
    "  'this was very sad earlier': False,\n",
    "  'i was good and not bad earlier': True,\n",
    "  'i was not good and not happy earlier': False,\n",
    "  'i am not at all bad or sad right now': True,\n",
    "  'i am not at all good or happy right now': False,\n",
    "  'this was not happy and not good earlier': False,\n",
    "}\n",
    "\n",
    "test_data = {\n",
    "  'this is happy': True,\n",
    "  'i am good': True,\n",
    "  'this is not happy': False,\n",
    "  'i am not good': False,\n",
    "  'this is not bad': True,\n",
    "  'i am not sad': True,\n",
    "  'i am very good': True,\n",
    "  'this is very bad': False,\n",
    "  'i am very sad': False,\n",
    "  'this is bad not good': False,\n",
    "  'this is good and happy': True,\n",
    "  'i am not good and not happy': False,\n",
    "  'i am not at all sad': True,\n",
    "  'this is not at all good': False,\n",
    "  'this is not at all bad': True,\n",
    "  'this is good right now': True,\n",
    "  'this is sad right now': False,\n",
    "  'this is very bad right now': False,\n",
    "  'this was good earlier': True,\n",
    "  'i was not happy and not good earlier': False,\n",
    "}"
   ]
  },
  {
   "cell_type": "markdown",
   "metadata": {
    "id": "qGuMLNmA-xfu"
   },
   "source": [
    "# ***Main***"
   ]
  },
  {
   "cell_type": "code",
   "execution_count": 3,
   "metadata": {
    "colab": {
     "base_uri": "https://localhost:8080/"
    },
    "id": "LQyPpHEs-w4v",
    "outputId": "3489a4b2-b020-4e62-b6d5-df1c79faf473"
   },
   "outputs": [
    {
     "name": "stdout",
     "output_type": "stream",
     "text": [
      "18 unique words found\n",
      "--- Epoch 100\n",
      "Train:\tLoss 0.688 | Accuracy: 0.552\n",
      "Test:\tLoss 0.697 | Accuracy: 0.500\n"
     ]
    },
    {
     "name": "stderr",
     "output_type": "stream",
     "text": [
      "C:\\Users\\feras\\AppData\\Local\\Temp\\ipykernel_3804\\1910790629.py:54: DeprecationWarning: Conversion of an array with ndim > 0 to a scalar is deprecated, and will error in future. Ensure you extract a single element from your array before performing this operation. (Deprecated NumPy 1.25.)\n",
      "  print('Train:\\tLoss %.3f | Accuracy: %.3f' % (train_loss, train_acc))\n",
      "C:\\Users\\feras\\AppData\\Local\\Temp\\ipykernel_3804\\1910790629.py:57: DeprecationWarning: Conversion of an array with ndim > 0 to a scalar is deprecated, and will error in future. Ensure you extract a single element from your array before performing this operation. (Deprecated NumPy 1.25.)\n",
      "  print('Test:\\tLoss %.3f | Accuracy: %.3f' % (test_loss, test_acc))\n"
     ]
    },
    {
     "name": "stdout",
     "output_type": "stream",
     "text": [
      "--- Epoch 200\n",
      "Train:\tLoss 0.656 | Accuracy: 0.690\n",
      "Test:\tLoss 0.714 | Accuracy: 0.450\n",
      "--- Epoch 300\n",
      "Train:\tLoss 0.336 | Accuracy: 0.879\n",
      "Test:\tLoss 0.294 | Accuracy: 0.900\n",
      "--- Epoch 400\n",
      "Train:\tLoss 0.009 | Accuracy: 1.000\n",
      "Test:\tLoss 0.016 | Accuracy: 1.000\n",
      "--- Epoch 500\n",
      "Train:\tLoss 0.004 | Accuracy: 1.000\n",
      "Test:\tLoss 0.007 | Accuracy: 1.000\n",
      "--- Epoch 600\n",
      "Train:\tLoss 0.002 | Accuracy: 1.000\n",
      "Test:\tLoss 0.004 | Accuracy: 1.000\n",
      "--- Epoch 700\n",
      "Train:\tLoss 0.002 | Accuracy: 1.000\n",
      "Test:\tLoss 0.003 | Accuracy: 1.000\n",
      "--- Epoch 800\n",
      "Train:\tLoss 0.001 | Accuracy: 1.000\n",
      "Test:\tLoss 0.002 | Accuracy: 1.000\n",
      "--- Epoch 900\n",
      "Train:\tLoss 0.001 | Accuracy: 1.000\n",
      "Test:\tLoss 0.002 | Accuracy: 1.000\n",
      "--- Epoch 1000\n",
      "Train:\tLoss 0.001 | Accuracy: 1.000\n",
      "Test:\tLoss 0.002 | Accuracy: 1.000\n"
     ]
    }
   ],
   "source": [
    "import numpy as np\n",
    "import random\n",
    "\n",
    "vocab = list(set([w for text in train_data.keys() for w in text.split(' ')]))\n",
    "vocab_size = len(vocab)\n",
    "print('%d unique words found' % vocab_size)\n",
    "\n",
    "word_to_idx = { w: i for i, w in enumerate(vocab) }\n",
    "idx_to_word = { i: w for i, w in enumerate(vocab) }\n",
    "\n",
    "def createInputs(text):\n",
    "  inputs = []\n",
    "  for w in text.split(' '):\n",
    "    v = np.zeros((vocab_size, 1))\n",
    "    v[word_to_idx[w]] = 1\n",
    "    inputs.append(v)\n",
    "  return inputs\n",
    "\n",
    "def softmax(xs):\n",
    "  return np.exp(xs) / sum(np.exp(xs))\n",
    "\n",
    "rnn = RNN(vocab_size, 2)\n",
    "\n",
    "def processData(data, backprop=True):\n",
    "  items = list(data.items())\n",
    "  random.shuffle(items)\n",
    "\n",
    "  loss = 0\n",
    "  num_correct = 0\n",
    "\n",
    "  for x, y in items:\n",
    "    inputs = createInputs(x)\n",
    "    target = int(y)\n",
    "\n",
    "    out, _ = rnn.forward(inputs)\n",
    "    probs = softmax(out)\n",
    "\n",
    "    loss -= np.log(probs[target])\n",
    "    num_correct += int(np.argmax(probs) == target)\n",
    "\n",
    "    if backprop:\n",
    "      d_L_d_y = probs\n",
    "      d_L_d_y[target] -= 1\n",
    "\n",
    "      rnn.backprop(d_L_d_y)\n",
    "\n",
    "  return loss / len(data), num_correct / len(data)\n",
    "\n",
    "for epoch in range(1000):\n",
    "  train_loss, train_acc = processData(train_data)\n",
    "\n",
    "  if epoch % 100 == 99:\n",
    "    print('--- Epoch %d' % (epoch + 1))\n",
    "    print('Train:\\tLoss %.3f | Accuracy: %.3f' % (train_loss, train_acc))\n",
    "\n",
    "    test_loss, test_acc = processData(test_data, backprop=False)\n",
    "    print('Test:\\tLoss %.3f | Accuracy: %.3f' % (test_loss, test_acc))"
   ]
  }
 ],
 "metadata": {
  "colab": {
   "provenance": []
  },
  "kernelspec": {
   "display_name": "Python 3 (ipykernel)",
   "language": "python",
   "name": "python3"
  },
  "language_info": {
   "codemirror_mode": {
    "name": "ipython",
    "version": 3
   },
   "file_extension": ".py",
   "mimetype": "text/x-python",
   "name": "python",
   "nbconvert_exporter": "python",
   "pygments_lexer": "ipython3",
   "version": "3.11.7"
  }
 },
 "nbformat": 4,
 "nbformat_minor": 4
}
