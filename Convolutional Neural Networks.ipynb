{
 "cells": [
  {
   "cell_type": "markdown",
   "metadata": {},
   "source": [
    "<a href=\"https://colab.research.google.com/drive/1jFtfPPp5ggiJfiEZcrRjAGJ-cWaIpsXa?usp=sharing\" target=\"_parent\"><img src=\"https://colab.research.google.com/assets/colab-badge.svg\" alt=\"Open In Colab\"/></a>"
   ]
  },
  {
   "cell_type": "markdown",
   "metadata": {
    "id": "hDg4hFVSklVi"
   },
   "source": [
    "# ***Convolution Layer***"
   ]
  },
  {
   "cell_type": "code",
   "execution_count": 1,
   "metadata": {
    "colab": {
     "background_save": true
    },
    "id": "eJZBI1gIGU93"
   },
   "outputs": [],
   "source": [
    "class Conv3x3:\n",
    "\n",
    "  def __init__(self, num_filters):\n",
    "    self.num_filters = num_filters\n",
    "\n",
    "    self.filters = np.random.randn(num_filters, 3, 3) / 9\n",
    "\n",
    "  def iterate_regions(self, image):\n",
    "    h, w = image.shape\n",
    "\n",
    "    for i in range(h - 2):\n",
    "      for j in range(w - 2):\n",
    "        im_region = image[i:(i + 3), j:(j + 3)]\n",
    "        yield im_region, i, j\n",
    "\n",
    "  def forward(self, input):\n",
    "    self.last_input = input\n",
    "\n",
    "    h, w = input.shape\n",
    "    output = np.zeros((h - 2, w - 2, self.num_filters))\n",
    "\n",
    "    for im_region, i, j in self.iterate_regions(input):\n",
    "      output[i, j] = np.sum(im_region * self.filters, axis=(1, 2))\n",
    "\n",
    "    return output\n",
    "\n",
    "  def backprop(self, d_L_d_out, learn_rate):\n",
    "    d_L_d_filters = np.zeros(self.filters.shape)\n",
    "\n",
    "    for im_region, i, j in self.iterate_regions(self.last_input):\n",
    "      for f in range(self.num_filters):\n",
    "        d_L_d_filters[f] += d_L_d_out[i, j, f] * im_region\n",
    "\n",
    "    self.filters -= learn_rate * d_L_d_filters\n",
    "\n",
    "    return None"
   ]
  },
  {
   "cell_type": "markdown",
   "metadata": {
    "id": "m_QZfnxzk5f5"
   },
   "source": [
    "# ***Max Pooling Layer***"
   ]
  },
  {
   "cell_type": "code",
   "execution_count": 2,
   "metadata": {
    "colab": {
     "background_save": true
    },
    "id": "K8YzaCmNGxAb"
   },
   "outputs": [],
   "source": [
    "class MaxPool2:\n",
    "\n",
    "  def iterate_regions(self, image):\n",
    "    h, w, _ = image.shape\n",
    "    new_h = h // 2\n",
    "    new_w = w // 2\n",
    "\n",
    "    for i in range(new_h):\n",
    "      for j in range(new_w):\n",
    "        im_region = image[(i * 2):(i * 2 + 2), (j * 2):(j * 2 + 2)]\n",
    "        yield im_region, i, j\n",
    "\n",
    "  def forward(self, input):\n",
    "    self.last_input = input\n",
    "\n",
    "    h, w, num_filters = input.shape\n",
    "    output = np.zeros((h // 2, w // 2, num_filters))\n",
    "\n",
    "    for im_region, i, j in self.iterate_regions(input):\n",
    "      output[i, j] = np.amax(im_region, axis=(0, 1))\n",
    "\n",
    "    return output\n",
    "\n",
    "  def backprop(self, d_L_d_out):\n",
    "    d_L_d_input = np.zeros(self.last_input.shape)\n",
    "\n",
    "    for im_region, i, j in self.iterate_regions(self.last_input):\n",
    "      h, w, f = im_region.shape\n",
    "      amax = np.amax(im_region, axis=(0, 1))\n",
    "\n",
    "      for i2 in range(h):\n",
    "        for j2 in range(w):\n",
    "          for f2 in range(f):\n",
    "            if im_region[i2, j2, f2] == amax[f2]:\n",
    "              d_L_d_input[i * 2 + i2, j * 2 + j2, f2] = d_L_d_out[i, j, f2]\n",
    "\n",
    "    return d_L_d_input"
   ]
  },
  {
   "cell_type": "markdown",
   "metadata": {
    "id": "cTelqBp3lOsl"
   },
   "source": [
    "# ***Softmax Layer***"
   ]
  },
  {
   "cell_type": "code",
   "execution_count": 3,
   "metadata": {
    "colab": {
     "background_save": true
    },
    "id": "N6DGMDbxG0V0"
   },
   "outputs": [],
   "source": [
    "class Softmax:\n",
    "  def __init__(self, input_len, nodes):\n",
    "    self.weights = np.random.randn(input_len, nodes) / input_len\n",
    "    self.biases = np.zeros(nodes)\n",
    "\n",
    "  def forward(self, input):\n",
    "    self.last_input_shape = input.shape\n",
    "\n",
    "    input = input.flatten()\n",
    "    self.last_input = input\n",
    "\n",
    "    input_len, nodes = self.weights.shape\n",
    "\n",
    "    totals = np.dot(input, self.weights) + self.biases\n",
    "    self.last_totals = totals\n",
    "\n",
    "    exp = np.exp(totals)\n",
    "    return exp / np.sum(exp, axis=0)\n",
    "\n",
    "  def backprop(self, d_L_d_out, learn_rate):\n",
    "    for i, gradient in enumerate(d_L_d_out):\n",
    "      if gradient == 0:\n",
    "        continue\n",
    "      t_exp = np.exp(self.last_totals)\n",
    "\n",
    "      S = np.sum(t_exp)\n",
    "\n",
    "      d_out_d_t = -t_exp[i] * t_exp / (S ** 2)\n",
    "      d_out_d_t[i] = t_exp[i] * (S - t_exp[i]) / (S ** 2)\n",
    "\n",
    "      d_t_d_w = self.last_input\n",
    "      d_t_d_b = 1\n",
    "      d_t_d_inputs = self.weights\n",
    "\n",
    "      d_L_d_t = gradient * d_out_d_t\n",
    "\n",
    "      d_L_d_w = d_t_d_w[np.newaxis].T @ d_L_d_t[np.newaxis]\n",
    "      d_L_d_b = d_L_d_t * d_t_d_b\n",
    "      d_L_d_inputs = d_t_d_inputs @ d_L_d_t\n",
    "\n",
    "      self.weights -= learn_rate * d_L_d_w\n",
    "      self.biases -= learn_rate * d_L_d_b\n",
    "\n",
    "      return d_L_d_inputs.reshape(self.last_input_shape)"
   ]
  },
  {
   "cell_type": "markdown",
   "metadata": {
    "id": "jNA4ZxNHlh3Q"
   },
   "source": [
    "# ***Main***"
   ]
  },
  {
   "cell_type": "code",
   "execution_count": 4,
   "metadata": {
    "colab": {
     "base_uri": "https://localhost:8080/"
    },
    "id": "zNi6lVgQGsQh",
    "outputId": "fc2cc495-77ed-458d-d81e-1abe30571675"
   },
   "outputs": [
    {
     "name": "stdout",
     "output_type": "stream",
     "text": [
      "MNIST CNN initialized!\n",
      "--- Epoch 1 ---\n",
      "[Step 100] Past 100 steps: Average Loss 2.231 | Accuracy: 21%\n",
      "[Step 200] Past 100 steps: Average Loss 2.118 | Accuracy: 31%\n",
      "[Step 300] Past 100 steps: Average Loss 1.572 | Accuracy: 58%\n",
      "[Step 400] Past 100 steps: Average Loss 1.230 | Accuracy: 58%\n",
      "[Step 500] Past 100 steps: Average Loss 1.132 | Accuracy: 61%\n",
      "[Step 600] Past 100 steps: Average Loss 0.829 | Accuracy: 73%\n",
      "[Step 700] Past 100 steps: Average Loss 0.810 | Accuracy: 71%\n",
      "[Step 800] Past 100 steps: Average Loss 0.637 | Accuracy: 81%\n",
      "[Step 900] Past 100 steps: Average Loss 0.449 | Accuracy: 87%\n",
      "[Step 1000] Past 100 steps: Average Loss 0.841 | Accuracy: 71%\n",
      "--- Epoch 2 ---\n",
      "[Step 100] Past 100 steps: Average Loss 0.435 | Accuracy: 82%\n",
      "[Step 200] Past 100 steps: Average Loss 0.459 | Accuracy: 89%\n",
      "[Step 300] Past 100 steps: Average Loss 0.715 | Accuracy: 78%\n",
      "[Step 400] Past 100 steps: Average Loss 0.600 | Accuracy: 80%\n",
      "[Step 500] Past 100 steps: Average Loss 0.519 | Accuracy: 82%\n",
      "[Step 600] Past 100 steps: Average Loss 0.520 | Accuracy: 82%\n",
      "[Step 700] Past 100 steps: Average Loss 0.644 | Accuracy: 81%\n",
      "[Step 800] Past 100 steps: Average Loss 0.386 | Accuracy: 88%\n",
      "[Step 900] Past 100 steps: Average Loss 0.505 | Accuracy: 80%\n",
      "[Step 1000] Past 100 steps: Average Loss 0.394 | Accuracy: 89%\n",
      "--- Epoch 3 ---\n",
      "[Step 100] Past 100 steps: Average Loss 0.433 | Accuracy: 88%\n",
      "[Step 200] Past 100 steps: Average Loss 0.235 | Accuracy: 93%\n",
      "[Step 300] Past 100 steps: Average Loss 0.501 | Accuracy: 86%\n",
      "[Step 400] Past 100 steps: Average Loss 0.386 | Accuracy: 87%\n",
      "[Step 500] Past 100 steps: Average Loss 0.297 | Accuracy: 94%\n",
      "[Step 600] Past 100 steps: Average Loss 0.314 | Accuracy: 92%\n",
      "[Step 700] Past 100 steps: Average Loss 0.682 | Accuracy: 80%\n",
      "[Step 800] Past 100 steps: Average Loss 0.500 | Accuracy: 84%\n",
      "[Step 900] Past 100 steps: Average Loss 0.375 | Accuracy: 89%\n",
      "[Step 1000] Past 100 steps: Average Loss 0.403 | Accuracy: 90%\n",
      "\n",
      "--- Testing the CNN ---\n",
      "Test Loss: 0.5408909932394036\n",
      "Test Accuracy: 0.806\n"
     ]
    }
   ],
   "source": [
    "import mnist\n",
    "import numpy as np\n",
    "\n",
    "with np.load(r\"C:\\Users\\feras\\Desktop\\All\\Research Notebooks\\mnist.npz\") as data:\n",
    "    train_images, train_labels = data['x_train'][:1000], data['y_train'][:1000]\n",
    "    test_images, test_labels = data['x_test'][:1000], data['y_test'][:1000]\n",
    "\n",
    "conv = Conv3x3(8)\n",
    "pool = MaxPool2()\n",
    "softmax = Softmax(13 * 13 * 8, 10)\n",
    "\n",
    "def forward(image, label):\n",
    "  out = conv.forward((image / 255) - 0.5)\n",
    "  out = pool.forward(out)\n",
    "  out = softmax.forward(out)\n",
    "\n",
    "  loss = -np.log(out[label])\n",
    "  acc = 1 if np.argmax(out) == label else 0\n",
    "\n",
    "  return out, loss, acc\n",
    "\n",
    "def train(im, label, lr=.005):\n",
    "  out, loss, acc = forward(im, label)\n",
    "\n",
    "  gradient = np.zeros(10)\n",
    "  gradient[label] = -1 / out[label]\n",
    "\n",
    "  gradient = softmax.backprop(gradient, lr)\n",
    "  gradient = pool.backprop(gradient)\n",
    "  gradient = conv.backprop(gradient, lr)\n",
    "\n",
    "  return loss, acc\n",
    "\n",
    "print('MNIST CNN initialized!')\n",
    "\n",
    "for epoch in range(3):\n",
    "  print('--- Epoch %d ---' % (epoch + 1))\n",
    "\n",
    "  permutation = np.random.permutation(len(train_images))\n",
    "  train_images = train_images[permutation]\n",
    "  train_labels = train_labels[permutation]\n",
    "\n",
    "  loss = 0\n",
    "  num_correct = 0\n",
    "  for i, (im, label) in enumerate(zip(train_images, train_labels)):\n",
    "    if i > 0 and i % 100 == 99:\n",
    "      print(\n",
    "        '[Step %d] Past 100 steps: Average Loss %.3f | Accuracy: %d%%' %\n",
    "        (i + 1, loss / 100, num_correct)\n",
    "      )\n",
    "      loss = 0\n",
    "      num_correct = 0\n",
    "\n",
    "    l, acc = train(im, label)\n",
    "    loss += l\n",
    "    num_correct += acc\n",
    "\n",
    "print('\\n--- Testing the CNN ---')\n",
    "loss = 0\n",
    "num_correct = 0\n",
    "for im, label in zip(test_images, test_labels):\n",
    "  _, l, acc = forward(im, label)\n",
    "  loss += l\n",
    "  num_correct += acc\n",
    "\n",
    "num_tests = len(test_images)\n",
    "print('Test Loss:', loss / num_tests)\n",
    "print('Test Accuracy:', num_correct / num_tests)"
   ]
  }
 ],
 "metadata": {
  "colab": {
   "provenance": []
  },
  "kernelspec": {
   "display_name": "Python 3 (ipykernel)",
   "language": "python",
   "name": "python3"
  },
  "language_info": {
   "codemirror_mode": {
    "name": "ipython",
    "version": 3
   },
   "file_extension": ".py",
   "mimetype": "text/x-python",
   "name": "python",
   "nbconvert_exporter": "python",
   "pygments_lexer": "ipython3",
   "version": "3.11.7"
  }
 },
 "nbformat": 4,
 "nbformat_minor": 4
}
