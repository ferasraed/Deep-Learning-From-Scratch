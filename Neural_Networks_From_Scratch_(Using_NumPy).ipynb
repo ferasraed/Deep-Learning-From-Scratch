{
  "nbformat": 4,
  "nbformat_minor": 0,
  "metadata": {
    "colab": {
      "provenance": [],
      "authorship_tag": "ABX9TyM3CJA6dmZ+77i1X9yJufa6",
      "include_colab_link": true
    },
    "kernelspec": {
      "name": "python3",
      "display_name": "Python 3"
    },
    "language_info": {
      "name": "python"
    }
  },
  "cells": [
    {
      "cell_type": "markdown",
      "metadata": {
        "id": "view-in-github",
        "colab_type": "text"
      },
      "source": [
        "<a href=\"https://colab.research.google.com/github/ferasraed/Neural-Networks-From-Scratch-Using-NumPy-/blob/main/Neural_Networks_From_Scratch_(Using_NumPy).ipynb\" target=\"_parent\"><img src=\"https://colab.research.google.com/assets/colab-badge.svg\" alt=\"Open In Colab\"/></a>"
      ]
    },
    {
      "cell_type": "markdown",
      "source": [
        "# ***Coding Sigmoid and Its Derivation Functions***"
      ],
      "metadata": {
        "id": "nZmgT-9w__pE"
      }
    },
    {
      "cell_type": "code",
      "source": [
        "import numpy as np\n",
        "\n",
        "def sigmoid(x):\n",
        "  return (1 / ( 1 + np.exp(-x)))\n",
        "\n",
        "def deriv_sigmoid(x):\n",
        "  fx = sigmoid(x)\n",
        "  return fx * (1 - fx)"
      ],
      "metadata": {
        "id": "vdeI8_9R_0rr"
      },
      "execution_count": 1,
      "outputs": []
    },
    {
      "cell_type": "markdown",
      "source": [
        "# ***Coding a Neuron***"
      ],
      "metadata": {
        "id": "zjaXlwWWbC88"
      }
    },
    {
      "cell_type": "code",
      "execution_count": 2,
      "metadata": {
        "id": "tmYYepmWa8hj",
        "colab": {
          "base_uri": "https://localhost:8080/"
        },
        "outputId": "9701f34b-1343-4b21-dcbf-890bb4e89a6f"
      },
      "outputs": [
        {
          "output_type": "stream",
          "name": "stdout",
          "text": [
            "0.9990889488055994\n"
          ]
        }
      ],
      "source": [
        "class Neuron:\n",
        "  def __init__(self, weights, bias):\n",
        "    self.weights = weights\n",
        "    self.bias = bias\n",
        "\n",
        "  def feedforward(self, inputs):\n",
        "    total = np.dot(self.weights, inputs) + self.bias\n",
        "    return sigmoid(total)\n",
        "\n",
        "weights = np.array([0,1])\n",
        "bias = 4\n",
        "\n",
        "n = Neuron(weights, bias)\n",
        "x = np.array([2,3])\n",
        "\n",
        "print(n.feedforward(x))"
      ]
    },
    {
      "cell_type": "markdown",
      "source": [
        "# ***MSE Loss***"
      ],
      "metadata": {
        "id": "qGuMLNmA-xfu"
      }
    },
    {
      "cell_type": "code",
      "source": [
        "def mse_loss(y_true, y_pred):\n",
        "  return ((y_true - y_pred) ** 2).mean()\n",
        "\n",
        "y_true = np.array([1, 0, 0, 1])\n",
        "y_pred = np.array([0, 0, 0, 0])\n",
        "\n",
        "print(mse_loss(y_true, y_pred))"
      ],
      "metadata": {
        "colab": {
          "base_uri": "https://localhost:8080/"
        },
        "id": "LQyPpHEs-w4v",
        "outputId": "18fe481d-25ca-4d3c-9bdf-cb2ffa4fc428"
      },
      "execution_count": 3,
      "outputs": [
        {
          "output_type": "stream",
          "name": "stdout",
          "text": [
            "0.5\n"
          ]
        }
      ]
    },
    {
      "cell_type": "markdown",
      "source": [
        "# ***Feedforward and Backpropagation (Training)***"
      ],
      "metadata": {
        "id": "lMmYv4sc-9rP"
      }
    },
    {
      "cell_type": "code",
      "source": [
        "class OurNeuralNetwork:\n",
        "  def __init__(self):\n",
        "    # Weights\n",
        "    self.w1 = np.random.normal()\n",
        "    self.w2 = np.random.normal()\n",
        "    self.w3 = np.random.normal()\n",
        "    self.w4 = np.random.normal()\n",
        "    self.w5 = np.random.normal()\n",
        "    self.w6 = np.random.normal()\n",
        "\n",
        "    # Biases\n",
        "    self.b1 = np.random.normal()\n",
        "    self.b2 = np.random.normal()\n",
        "    self.b3 = np.random.normal()\n",
        "\n",
        "  def feedforward(self, x):\n",
        "    h1 = sigmoid(self.w1 * x[0] + self.w2 * x[1] + self.b1)\n",
        "    h2 = sigmoid(self.w3 * x[0] + self.w4 * x[1] + self.b2)\n",
        "    o1 = sigmoid(self.w5 * h1 + self.w6 * h2 + self.b3)\n",
        "    return o1\n",
        "\n",
        "  def train(self, data, all_y_trues):\n",
        "    learn_rate = 0.1\n",
        "    epochs = 1000 # number of times to loop\n",
        "\n",
        "    for epoch in range(epochs):\n",
        "      for x, y_true in zip(data, all_y_trues):\n",
        "        sum_h1 = self.w1 * x[0] + self.w2 * x[1] + self.b1\n",
        "        h1 = sigmoid(sum_h1)\n",
        "\n",
        "        sum_h2 = self.w3 * x[0] + self.w4 * x[1] + self.b2\n",
        "        h2 = sigmoid(sum_h2)\n",
        "\n",
        "        sum_o1 = self.w5 * h1 + self.w6 * h2 + self.b3\n",
        "        o1 = sigmoid(sum_o1)\n",
        "        y_pred = o1\n",
        "\n",
        "        # --- Calculate partial derivatives.\n",
        "        d_L_d_ypred = -2 * (y_true - y_pred)\n",
        "\n",
        "        # Neuron o1\n",
        "        d_ypred_d_w5 = h1 * deriv_sigmoid(sum_o1)\n",
        "        d_ypred_d_w6 = h2 * deriv_sigmoid(sum_o1)\n",
        "        d_ypred_d_b3 = deriv_sigmoid(sum_o1)\n",
        "\n",
        "        d_ypred_d_h1 = self.w5 * deriv_sigmoid(sum_o1)\n",
        "        d_ypred_d_h2 = self.w6 * deriv_sigmoid(sum_o1)\n",
        "\n",
        "        # Neuron h1\n",
        "        d_h1_d_w1 = x[0] * deriv_sigmoid(sum_h1)\n",
        "        d_h1_d_w2 = x[1] * deriv_sigmoid(sum_h1)\n",
        "        d_h1_d_b1 = deriv_sigmoid(sum_h1)\n",
        "\n",
        "        # Neuron h2\n",
        "        d_h2_d_w3 = x[0] * deriv_sigmoid(sum_h2)\n",
        "        d_h2_d_w4 = x[1] * deriv_sigmoid(sum_h2)\n",
        "        d_h2_d_b2 = deriv_sigmoid(sum_h2)\n",
        "\n",
        "        # --- Update weights and biases\n",
        "        # Neuron h1\n",
        "        self.w1 -= learn_rate * d_L_d_ypred * d_ypred_d_h1 * d_h1_d_w1\n",
        "        self.w2 -= learn_rate * d_L_d_ypred * d_ypred_d_h1 * d_h1_d_w2\n",
        "        self.b1 -= learn_rate * d_L_d_ypred * d_ypred_d_h1 * d_h1_d_b1\n",
        "\n",
        "        # Neuron h2\n",
        "        self.w3 -= learn_rate * d_L_d_ypred * d_ypred_d_h2 * d_h2_d_w3\n",
        "        self.w4 -= learn_rate * d_L_d_ypred * d_ypred_d_h2 * d_h2_d_w4\n",
        "        self.b2 -= learn_rate * d_L_d_ypred * d_ypred_d_h2 * d_h2_d_b2\n",
        "\n",
        "        # Neuron o1\n",
        "        self.w5 -= learn_rate * d_L_d_ypred * d_ypred_d_w5\n",
        "        self.w6 -= learn_rate * d_L_d_ypred * d_ypred_d_w6\n",
        "        self.b3 -= learn_rate * d_L_d_ypred * d_ypred_d_b3\n",
        "\n",
        "      # --- Calculate total loss at the end of each epoch\n",
        "      if epoch % 10 == 0:\n",
        "        y_preds = np.apply_along_axis(self.feedforward, 1, data)\n",
        "        loss = mse_loss(all_y_trues, y_preds)\n",
        "        print(\"Epoch %d loss: %.3f\" % (epoch, loss))\n",
        "\n",
        "data = np.array([\n",
        "  [-2, -1],  # Alice\n",
        "  [25, 6],   # Bob\n",
        "  [17, 4],   # Charlie\n",
        "  [-15, -6], # Diana\n",
        "])\n",
        "\n",
        "all_y_trues = np.array([\n",
        "  1, # Alice\n",
        "  0, # Bob\n",
        "  0, # Charlie\n",
        "  1, # Diana\n",
        "])\n",
        "\n",
        "# Train our neural network!\n",
        "network = OurNeuralNetwork()\n",
        "network.train(data, all_y_trues)"
      ],
      "metadata": {
        "id": "QJu6uBqA_IST",
        "colab": {
          "base_uri": "https://localhost:8080/"
        },
        "outputId": "9e922257-dee2-4b40-ad09-973a7643a887"
      },
      "execution_count": 4,
      "outputs": [
        {
          "output_type": "stream",
          "name": "stdout",
          "text": [
            "Epoch 0 loss: 0.476\n",
            "Epoch 10 loss: 0.364\n",
            "Epoch 20 loss: 0.221\n",
            "Epoch 30 loss: 0.158\n",
            "Epoch 40 loss: 0.123\n",
            "Epoch 50 loss: 0.098\n",
            "Epoch 60 loss: 0.080\n",
            "Epoch 70 loss: 0.067\n",
            "Epoch 80 loss: 0.056\n",
            "Epoch 90 loss: 0.048\n",
            "Epoch 100 loss: 0.042\n",
            "Epoch 110 loss: 0.037\n",
            "Epoch 120 loss: 0.033\n",
            "Epoch 130 loss: 0.030\n",
            "Epoch 140 loss: 0.027\n",
            "Epoch 150 loss: 0.025\n",
            "Epoch 160 loss: 0.023\n",
            "Epoch 170 loss: 0.021\n",
            "Epoch 180 loss: 0.019\n",
            "Epoch 190 loss: 0.018\n",
            "Epoch 200 loss: 0.017\n",
            "Epoch 210 loss: 0.016\n",
            "Epoch 220 loss: 0.015\n",
            "Epoch 230 loss: 0.014\n",
            "Epoch 240 loss: 0.013\n",
            "Epoch 250 loss: 0.013\n",
            "Epoch 260 loss: 0.012\n",
            "Epoch 270 loss: 0.011\n",
            "Epoch 280 loss: 0.011\n",
            "Epoch 290 loss: 0.010\n",
            "Epoch 300 loss: 0.010\n",
            "Epoch 310 loss: 0.010\n",
            "Epoch 320 loss: 0.009\n",
            "Epoch 330 loss: 0.009\n",
            "Epoch 340 loss: 0.009\n",
            "Epoch 350 loss: 0.008\n",
            "Epoch 360 loss: 0.008\n",
            "Epoch 370 loss: 0.008\n",
            "Epoch 380 loss: 0.007\n",
            "Epoch 390 loss: 0.007\n",
            "Epoch 400 loss: 0.007\n",
            "Epoch 410 loss: 0.007\n",
            "Epoch 420 loss: 0.007\n",
            "Epoch 430 loss: 0.006\n",
            "Epoch 440 loss: 0.006\n",
            "Epoch 450 loss: 0.006\n",
            "Epoch 460 loss: 0.006\n",
            "Epoch 470 loss: 0.006\n",
            "Epoch 480 loss: 0.006\n",
            "Epoch 490 loss: 0.005\n",
            "Epoch 500 loss: 0.005\n",
            "Epoch 510 loss: 0.005\n",
            "Epoch 520 loss: 0.005\n",
            "Epoch 530 loss: 0.005\n",
            "Epoch 540 loss: 0.005\n",
            "Epoch 550 loss: 0.005\n",
            "Epoch 560 loss: 0.005\n",
            "Epoch 570 loss: 0.005\n",
            "Epoch 580 loss: 0.004\n",
            "Epoch 590 loss: 0.004\n",
            "Epoch 600 loss: 0.004\n",
            "Epoch 610 loss: 0.004\n",
            "Epoch 620 loss: 0.004\n",
            "Epoch 630 loss: 0.004\n",
            "Epoch 640 loss: 0.004\n",
            "Epoch 650 loss: 0.004\n",
            "Epoch 660 loss: 0.004\n",
            "Epoch 670 loss: 0.004\n",
            "Epoch 680 loss: 0.004\n",
            "Epoch 690 loss: 0.004\n",
            "Epoch 700 loss: 0.004\n",
            "Epoch 710 loss: 0.004\n",
            "Epoch 720 loss: 0.003\n",
            "Epoch 730 loss: 0.003\n",
            "Epoch 740 loss: 0.003\n",
            "Epoch 750 loss: 0.003\n",
            "Epoch 760 loss: 0.003\n",
            "Epoch 770 loss: 0.003\n",
            "Epoch 780 loss: 0.003\n",
            "Epoch 790 loss: 0.003\n",
            "Epoch 800 loss: 0.003\n",
            "Epoch 810 loss: 0.003\n",
            "Epoch 820 loss: 0.003\n",
            "Epoch 830 loss: 0.003\n",
            "Epoch 840 loss: 0.003\n",
            "Epoch 850 loss: 0.003\n",
            "Epoch 860 loss: 0.003\n",
            "Epoch 870 loss: 0.003\n",
            "Epoch 880 loss: 0.003\n",
            "Epoch 890 loss: 0.003\n",
            "Epoch 900 loss: 0.003\n",
            "Epoch 910 loss: 0.003\n",
            "Epoch 920 loss: 0.003\n",
            "Epoch 930 loss: 0.003\n",
            "Epoch 940 loss: 0.003\n",
            "Epoch 950 loss: 0.003\n",
            "Epoch 960 loss: 0.002\n",
            "Epoch 970 loss: 0.002\n",
            "Epoch 980 loss: 0.002\n",
            "Epoch 990 loss: 0.002\n"
          ]
        }
      ]
    }
  ]
}